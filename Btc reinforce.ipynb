{
 "cells": [
  {
   "cell_type": "markdown",
   "metadata": {},
   "source": [
    "# Bitcoin Reinforcement Learning\n",
    "\n",
    "## Assumptions\n",
    "* Agent's actions are small enough that it will not affect the future price of bitcon. (If so, will reinforcement learning be affective?)\n",
    "* Agent will make decisions and execute transactions in a fixed timestep.\n",
    "* The price of latest transaction will be the price of bitcoin at that time."
   ]
  },
  {
   "cell_type": "code",
   "execution_count": 1,
   "metadata": {
    "collapsed": true
   },
   "outputs": [],
   "source": [
    "from enum import Enum, unique\n",
    "from collections import deque\n",
    "import random"
   ]
  },
  {
   "cell_type": "code",
   "execution_count": 2,
   "metadata": {
    "collapsed": true
   },
   "outputs": [],
   "source": [
    "import numpy as np\n",
    "import pandas as pd\n",
    "import matplotlib.pyplot as plt"
   ]
  },
  {
   "cell_type": "code",
   "execution_count": 3,
   "metadata": {},
   "outputs": [
    {
     "name": "stderr",
     "output_type": "stream",
     "text": [
      "Using TensorFlow backend.\n"
     ]
    }
   ],
   "source": [
    "from keras import backend as K\n",
    "from keras.models import Sequential\n",
    "from keras.layers import Dense, Dropout, Activation, Flatten\n",
    "from keras.layers import Convolution2D, MaxPooling2D\n",
    "from keras.utils import np_utils"
   ]
  },
  {
   "cell_type": "code",
   "execution_count": 4,
   "metadata": {
    "collapsed": true
   },
   "outputs": [],
   "source": [
    "btc_csv = pd.read_csv(\"coinbaseUSD.csv\", header = None, usecols = [0, 1], names = [\"timestamp\", \"price\"])"
   ]
  },
  {
   "cell_type": "code",
   "execution_count": 5,
   "metadata": {},
   "outputs": [
    {
     "name": "stdout",
     "output_type": "stream",
     "text": [
      "<class 'pandas.core.frame.DataFrame'>\n",
      "RangeIndex: 18192817 entries, 0 to 18192816\n",
      "Data columns (total 2 columns):\n",
      "timestamp    int64\n",
      "price        float64\n",
      "dtypes: float64(1), int64(1)\n",
      "memory usage: 277.6 MB\n"
     ]
    }
   ],
   "source": [
    "btc_csv.info()"
   ]
  },
  {
   "cell_type": "code",
   "execution_count": 6,
   "metadata": {},
   "outputs": [
    {
     "data": {
      "text/html": [
       "<div>\n",
       "<style>\n",
       "    .dataframe thead tr:only-child th {\n",
       "        text-align: right;\n",
       "    }\n",
       "\n",
       "    .dataframe thead th {\n",
       "        text-align: left;\n",
       "    }\n",
       "\n",
       "    .dataframe tbody tr th {\n",
       "        vertical-align: top;\n",
       "    }\n",
       "</style>\n",
       "<table border=\"1\" class=\"dataframe\">\n",
       "  <thead>\n",
       "    <tr style=\"text-align: right;\">\n",
       "      <th></th>\n",
       "      <th>timestamp</th>\n",
       "      <th>price</th>\n",
       "    </tr>\n",
       "  </thead>\n",
       "  <tbody>\n",
       "    <tr>\n",
       "      <th>0</th>\n",
       "      <td>1417412036</td>\n",
       "      <td>300.0</td>\n",
       "    </tr>\n",
       "    <tr>\n",
       "      <th>1</th>\n",
       "      <td>1417412423</td>\n",
       "      <td>300.0</td>\n",
       "    </tr>\n",
       "    <tr>\n",
       "      <th>2</th>\n",
       "      <td>1417415048</td>\n",
       "      <td>370.0</td>\n",
       "    </tr>\n",
       "    <tr>\n",
       "      <th>3</th>\n",
       "      <td>1417416612</td>\n",
       "      <td>370.0</td>\n",
       "    </tr>\n",
       "    <tr>\n",
       "      <th>4</th>\n",
       "      <td>1417498166</td>\n",
       "      <td>377.0</td>\n",
       "    </tr>\n",
       "  </tbody>\n",
       "</table>\n",
       "</div>"
      ],
      "text/plain": [
       "    timestamp  price\n",
       "0  1417412036  300.0\n",
       "1  1417412423  300.0\n",
       "2  1417415048  370.0\n",
       "3  1417416612  370.0\n",
       "4  1417498166  377.0"
      ]
     },
     "execution_count": 6,
     "metadata": {},
     "output_type": "execute_result"
    }
   ],
   "source": [
    "btc_csv.head(5)"
   ]
  },
  {
   "cell_type": "code",
   "execution_count": 7,
   "metadata": {},
   "outputs": [
    {
     "data": {
      "text/html": [
       "<div>\n",
       "<style>\n",
       "    .dataframe thead tr:only-child th {\n",
       "        text-align: right;\n",
       "    }\n",
       "\n",
       "    .dataframe thead th {\n",
       "        text-align: left;\n",
       "    }\n",
       "\n",
       "    .dataframe tbody tr th {\n",
       "        vertical-align: top;\n",
       "    }\n",
       "</style>\n",
       "<table border=\"1\" class=\"dataframe\">\n",
       "  <thead>\n",
       "    <tr style=\"text-align: right;\">\n",
       "      <th></th>\n",
       "      <th>timestamp</th>\n",
       "      <th>price</th>\n",
       "    </tr>\n",
       "  </thead>\n",
       "  <tbody>\n",
       "    <tr>\n",
       "      <th>count</th>\n",
       "      <td>1.819282e+07</td>\n",
       "      <td>1.819282e+07</td>\n",
       "    </tr>\n",
       "    <tr>\n",
       "      <th>mean</th>\n",
       "      <td>1.465828e+09</td>\n",
       "      <td>8.738391e+02</td>\n",
       "    </tr>\n",
       "    <tr>\n",
       "      <th>std</th>\n",
       "      <td>2.354160e+07</td>\n",
       "      <td>7.622207e+02</td>\n",
       "    </tr>\n",
       "    <tr>\n",
       "      <th>min</th>\n",
       "      <td>1.417412e+09</td>\n",
       "      <td>6.000000e-02</td>\n",
       "    </tr>\n",
       "    <tr>\n",
       "      <th>25%</th>\n",
       "      <td>1.446888e+09</td>\n",
       "      <td>3.479200e+02</td>\n",
       "    </tr>\n",
       "    <tr>\n",
       "      <th>50%</th>\n",
       "      <td>1.464890e+09</td>\n",
       "      <td>5.389900e+02</td>\n",
       "    </tr>\n",
       "    <tr>\n",
       "      <th>75%</th>\n",
       "      <td>1.489606e+09</td>\n",
       "      <td>1.142120e+03</td>\n",
       "    </tr>\n",
       "    <tr>\n",
       "      <th>max</th>\n",
       "      <td>1.500333e+09</td>\n",
       "      <td>2.999990e+03</td>\n",
       "    </tr>\n",
       "  </tbody>\n",
       "</table>\n",
       "</div>"
      ],
      "text/plain": [
       "          timestamp         price\n",
       "count  1.819282e+07  1.819282e+07\n",
       "mean   1.465828e+09  8.738391e+02\n",
       "std    2.354160e+07  7.622207e+02\n",
       "min    1.417412e+09  6.000000e-02\n",
       "25%    1.446888e+09  3.479200e+02\n",
       "50%    1.464890e+09  5.389900e+02\n",
       "75%    1.489606e+09  1.142120e+03\n",
       "max    1.500333e+09  2.999990e+03"
      ]
     },
     "execution_count": 7,
     "metadata": {},
     "output_type": "execute_result"
    }
   ],
   "source": [
    "btc_csv.describe()"
   ]
  },
  {
   "cell_type": "code",
   "execution_count": 8,
   "metadata": {},
   "outputs": [
    {
     "data": {
      "text/plain": [
       "<matplotlib.figure.Figure at 0x16388decac8>"
      ]
     },
     "metadata": {},
     "output_type": "display_data"
    },
    {
     "data": {
      "text/plain": [
       "<matplotlib.figure.Figure at 0x16388deca90>"
      ]
     },
     "metadata": {},
     "output_type": "display_data"
    },
    {
     "data": {
      "image/png": "[encoded data removed]",
      "text/plain": [
       "<matplotlib.figure.Figure at 0x16388db2e48>"
      ]
     },
     "metadata": {},
     "output_type": "display_data"
    },
    {
     "data": {
      "text/plain": [
       "<matplotlib.figure.Figure at 0x16388e02ef0>"
      ]
     },
     "metadata": {},
     "output_type": "display_data"
    },
    {
     "data": {
      "image/png": "[encoded data removed]",
      "text/plain": [
       "<matplotlib.figure.Figure at 0x16388ffc0f0>"
      ]
     },
     "metadata": {},
     "output_type": "display_data"
    }
   ],
   "source": [
    "plt.clf()\n",
    "plt.figure()\n",
    "btc_csv.hist(column = \"price\", bins=100)\n",
    "plt.figure()\n",
    "btc_csv.plot(x = \"timestamp\", y = \"price\")\n",
    "plt.show()"
   ]
  },
  {
   "cell_type": "code",
   "execution_count": 9,
   "metadata": {
    "collapsed": true
   },
   "outputs": [],
   "source": [
    "TIMESTEP = 1000\n",
    "\n",
    "btc_np = btc_csv.values\n",
    "current_timestamp = btc_np[0, 0]\n",
    "current_price = btc_np[0, 1]\n",
    "fixed_btc_data = np.empty((0, 2))\n",
    "\n",
    "for x in btc_np[1:]:\n",
    "    target_timestamp = x[0]\n",
    "    \n",
    "    while current_timestamp < target_timestamp:\n",
    "        row = [[current_timestamp, current_price]]\n",
    "        fixed_btc_data = np.append(fixed_btc_data, row, axis = 0)\n",
    "        current_timestamp += TIMESTEP\n",
    "    \n",
    "    current_price = x[1]"
   ]
  },
  {
   "cell_type": "code",
   "execution_count": 10,
   "metadata": {
    "collapsed": true
   },
   "outputs": [],
   "source": [
    "fixed_btc_data_df = pd.DataFrame(data = fixed_btc_data, columns = [\"timestamp\", \"price\"])"
   ]
  },
  {
   "cell_type": "code",
   "execution_count": 11,
   "metadata": {},
   "outputs": [
    {
     "data": {
      "text/plain": [
       "<matplotlib.figure.Figure at 0x1641a765940>"
      ]
     },
     "metadata": {},
     "output_type": "display_data"
    },
    {
     "data": {
      "text/plain": [
       "<matplotlib.figure.Figure at 0x1641a765da0>"
      ]
     },
     "metadata": {},
     "output_type": "display_data"
    },
    {
     "data": {
      "image/png": "[encoded data removed]",
      "text/plain": [
       "<matplotlib.figure.Figure at 0x1641a73a5f8>"
      ]
     },
     "metadata": {},
     "output_type": "display_data"
    }
   ],
   "source": [
    "plt.clf()\n",
    "plt.figure()\n",
    "fixed_btc_data_df.plot(x = \"timestamp\", y = \"price\")\n",
    "plt.show()"
   ]
  },
  {
   "cell_type": "code",
   "execution_count": 21,
   "metadata": {
    "collapsed": true
   },
   "outputs": [],
   "source": [
    "class BTCAgent(object):\n",
    "    \"\"\"\n",
    "    Will this make me rich?\n",
    "    \"\"\"\n",
    "    \n",
    "    @unique\n",
    "    class Action(Enum):\n",
    "        BUY_HALF = 0\n",
    "        BUY_MAX = 1\n",
    "        HOLD = 2\n",
    "        SELL_HALF = 3\n",
    "        SELL_MAX = 4\n",
    "    \n",
    "    def __init__(self, btc_data, replay_memory_size = 300000, context_size = 100, num_iterations = 1, batch_size = 32):\n",
    "        self.btc_data = btc_data\n",
    "        self.usd_amount = 200\n",
    "        self.btc_amount = 0\n",
    "        self.replay_memory = deque(maxlen=replay_memory_size)\n",
    "        self.state = np.zeros((1, 3, 1, context_size))\n",
    "        self.num_iterations = num_iterations\n",
    "        self.batch_size = batch_size\n",
    "        self.epsilon = 1.0\n",
    "    \n",
    "    def _calculate_total_asset(self, usd_amount, btc_amount, btc_price):\n",
    "        return usd_amount + btc_amount * btc_price\n",
    "    \n",
    "    def _execute_order(self, action_index, usd_amount, btc_amount, btc_price, next_btc_price):\n",
    "        action = self.Action(action_index)\n",
    "        \n",
    "        if action == self.Action.BUY_HALF: # BUY\n",
    "            next_usd_amount = usd_amount / 2.0\n",
    "            next_btc_amount = btc_amount + usd_amount / (2.0 * btc_price)\n",
    "            \n",
    "        if action == self.Action.BUY_MAX: # BUY\n",
    "            next_usd_amount = 0.0\n",
    "            next_btc_amount = btc_amount + usd_amount / btc_price\n",
    "\n",
    "        if action == self.Action.HOLD: # HOLD\n",
    "            next_usd_amount = usd_amount\n",
    "            next_btc_amount = btc_amount\n",
    "\n",
    "        if action == self.Action.SELL_HALF: # SELL\n",
    "            next_usd_amount = usd_amount + (btc_amount / 2.0) * btc_price\n",
    "            next_btc_amount = btc_amount / 2.0\n",
    "            \n",
    "        if action == self.Action.SELL_MAX: # SELL\n",
    "            next_usd_amount = usd_amount + btc_amount * btc_price\n",
    "            next_btc_amount = 0.0\n",
    "\n",
    "        total_asset = self._calculate_total_asset(usd_amount, btc_amount, btc_price)\n",
    "        next_total_asset = self._calculate_total_asset(next_usd_amount, next_btc_amount, next_btc_price)\n",
    "        reward = next_total_asset - total_asset\n",
    "\n",
    "        return next_usd_amount, next_btc_amount, reward\n",
    "    \n",
    "    def _initialize_q_function(self):\n",
    "        model = Sequential()\n",
    "\n",
    "        model.add(Convolution2D(filters=128, kernel_size=(2, 1), padding='valid', activation='relu', input_shape=(3, 1, self.state.shape[-1])))\n",
    "        model.add(Dropout(0.05))\n",
    "\n",
    "        model.add(Convolution2D(filters=256, kernel_size=(1, 1), padding='valid', activation='relu'))\n",
    "        model.add(Dropout(0.10))\n",
    "\n",
    "        model.add(Convolution2D(filters=512, kernel_size=(1, 1), padding='valid', activation='relu'))\n",
    "        model.add(MaxPooling2D(pool_size=(2, 1), padding='valid'))\n",
    "        model.add(Dropout(0.05))\n",
    "        \n",
    "        model.add(Flatten())\n",
    "\n",
    "        model.add(Dense(1024, activation='relu'))\n",
    "        model.add(Dropout(0.25))\n",
    "        model.add(Dense(len(self.Action.__members__), activation='softmax'))\n",
    "        \n",
    "        model.compile(loss='mse', optimizer='adam')\n",
    "        \n",
    "        return model\n",
    "    \n",
    "    def _get_action(self):\n",
    "        if random.random() < self.epsilon:\n",
    "            return random.choice(range(len(self.Action.__members__)))\n",
    "        else:\n",
    "            action_values = self.model.predict(self.state)\n",
    "            return np.argmax(action_values)\n",
    "    \n",
    "    def run(self):\n",
    "        K.clear_session()\n",
    "        self.model = self._initialize_q_function()\n",
    "        \n",
    "        self.epoches = []\n",
    "        self.trade_returns = []\n",
    "        self.static_returns = []\n",
    "\n",
    "        start_btc_price = self.btc_data[0, 1]\n",
    "        usd_wallet = self.usd_amount\n",
    "        btc_wallet = self.btc_amount\n",
    "        \n",
    "        s_1 = np.zeros((3, 1))\n",
    "        s_1[0, 0] = start_btc_price\n",
    "        s_1[1, 0] = usd_wallet\n",
    "        s_1[2, 0] = btc_wallet\n",
    "        \n",
    "        self.state = np.stack([s_1] * self.state.shape[-1], axis=2)\n",
    "        self.state = self.state.reshape(1, self.state.shape[0], self.state.shape[1], self.state.shape[2])\n",
    "        \n",
    "        loss = float('Inf')\n",
    "        store = [0] * len(self.Action.__members__)\n",
    "\n",
    "        for index in range(1, self.btc_data.shape[0] - 1):\n",
    "            self.epsilon = max(1 - (index / float(1000)), 0.1)\n",
    "            \n",
    "            btc_price = self.btc_data[index, 1]\n",
    "            next_btc_price = self.btc_data[index+1, 1]\n",
    "            \n",
    "            if index % 10:\n",
    "                potential_asset = (self.usd_amount / start_btc_price + self.btc_amount) * btc_price\n",
    "                begin_asset = self._calculate_total_asset(self.usd_amount, self.btc_amount, start_btc_price)\n",
    "                total_asset = self._calculate_total_asset(usd_wallet, btc_wallet, btc_price)\n",
    "                \n",
    "                self.epoches = np.append(self.epoches, [index])\n",
    "                self.trade_returns = np.append(self.trade_returns, [total_asset - begin_asset])\n",
    "                self.static_returns = np.append(self.static_returns, [potential_asset - begin_asset])\n",
    "                \n",
    "                plt.clf()\n",
    "                plt.figure()\n",
    "                plt.plot(self.epoches, self.trade_returns, 'r--', self.epoches, self.static_returns, 'bs')\n",
    "                plt.show()\n",
    "            \n",
    "            if index % 1000 == 0:\n",
    "                potential_asset = (self.usd_amount / start_btc_price + self.btc_amount) * btc_price\n",
    "                begin_asset = self._calculate_total_asset(self.usd_amount, self.btc_amount, start_btc_price)\n",
    "                total_asset = self._calculate_total_asset(usd_wallet, btc_wallet, btc_price)\n",
    "                print(\"Index %d, epsilon %.02f\" % (index, self.epsilon))\n",
    "                \n",
    "                for index, count in enumerate(store):\n",
    "                    print(\"%s -- %d / 1000\" % (self.Action(index), count))\n",
    "                \n",
    "                print(\"Total asset: $%.02f USD ($%.02f USD, %0.2f BTC)\" % (total_asset, usd_wallet, btc_wallet))\n",
    "                print(\"Close BTC price: $%.02f USD / BTC\" % (btc_price))\n",
    "                print(\"Trade return: $%.02f USD\" % (total_asset - begin_asset))\n",
    "                print(\"Static return: $%.02f USD\" % (potential_asset - begin_asset))\n",
    "                print(\"Model loss: %.02f\" % (loss))\n",
    "                print(\"\\n\\n\")\n",
    "                \n",
    "                loss = 0\n",
    "                store = [0] * len(self.Action.__members__)\n",
    "\n",
    "            ### Run\n",
    "            action = self._get_action()\n",
    "            store[action] += 1\n",
    "            next_usd_wallet, next_btc_wallet, reward = self._execute_order(action, usd_wallet, btc_wallet, btc_price, next_btc_price)\n",
    "\n",
    "            s_n = np.zeros((3, 1))\n",
    "            s_n[0, 0] = next_btc_price\n",
    "            s_n[1, 0] = next_usd_wallet\n",
    "            s_n[2, 0] = next_btc_wallet\n",
    "            \n",
    "            s_n = s_n.reshape(1, s_n.shape[0], s_n.shape[1], 1)\n",
    "            next_state = np.append(s_n, self.state[:, :, :, :(self.state.shape[-1] - 1)], axis=3)\n",
    "\n",
    "            self.replay_memory.append((self.state, action, reward, next_state))\n",
    "\n",
    "            ### Training\n",
    "            if len(self.replay_memory) > self.batch_size:\n",
    "                minibatch = random.sample(self.replay_memory, self.batch_size)\n",
    "\n",
    "                inputs = np.zeros((self.batch_size, self.state.shape[1], self.state.shape[2], self.state.shape[3]))\n",
    "                targets = np.zeros((self.batch_size, len(self.Action.__members__)))\n",
    "\n",
    "                for i in range(self.batch_size):\n",
    "                    state_t, action_t, reward_t, next_state_t = minibatch[i]\n",
    "\n",
    "                    inputs[i] = state_t\n",
    "                    targets[i] = self.model.predict(state_t)\n",
    "                    next_action_values = self.model.predict(next_state_t)\n",
    "\n",
    "                    targets[i, action_t] = reward_t + 0.99 * np.max(next_action_values)\n",
    "\n",
    "                loss += self.model.train_on_batch(inputs, targets)\n",
    "\n",
    "            ### Update\n",
    "            usd_wallet = next_usd_wallet\n",
    "            btc_wallet = next_btc_wallet\n",
    "            self.state = next_state"
   ]
  },
  {
   "cell_type": "code",
   "execution_count": 22,
   "metadata": {
    "collapsed": true
   },
   "outputs": [],
   "source": [
    "agent = BTCAgent(fixed_btc_data)"
   ]
  },
  {
   "cell_type": "code",
   "execution_count": 23,
   "metadata": {},
   "outputs": [
    {
     "name": "stdout",
     "output_type": "stream",
     "text": [
      "Index 100, epsilon 0.90\n",
      "Action.BUY_HALF -- 26 / 100\n",
      "Action.BUY_MAX -- 19 / 100\n",
      "Action.HOLD -- 19 / 100\n",
      "Action.SELL_HALF -- 18 / 100\n",
      "Action.SELL_MAX -- 17 / 100\n",
      "Total asset: $251.33 USD ($188.50 USD, 0.17 BTC)\n",
      "Close BTC price: $377.00 USD / BTC\n",
      "Trade return: $51.33 USD\n",
      "Static return: $51.33 USD\n",
      "Model loss: inf\n",
      "\n",
      "\n",
      "\n"
     ]
    },
    {
     "data": {
      "text/plain": [
       "<matplotlib.figure.Figure at 0x16440804da0>"
      ]
     },
     "metadata": {},
     "output_type": "display_data"
    },
    {
     "data": {
      "image/png": "[encoded data removed]",
      "text/plain": [
       "<matplotlib.figure.Figure at 0x164407c5fd0>"
      ]
     },
     "metadata": {},
     "output_type": "display_data"
    },
    {
     "name": "stdout",
     "output_type": "stream",
     "text": [
      "Index 200, epsilon 0.80\n",
      "Action.BUY_HALF -- 36 / 100\n",
      "Action.BUY_MAX -- 12 / 100\n",
      "Action.HOLD -- 15 / 100\n",
      "Action.SELL_HALF -- 19 / 100\n",
      "Action.SELL_MAX -- 18 / 100\n",
      "Total asset: $251.98 USD ($125.99 USD, 0.33 BTC)\n",
      "Close BTC price: $378.00 USD / BTC\n",
      "Trade return: $51.98 USD\n",
      "Static return: $52.00 USD\n",
      "Model loss: 414.74\n",
      "\n",
      "\n",
      "\n"
     ]
    },
    {
     "data": {
      "text/plain": [
       "<matplotlib.figure.Figure at 0x16419492080>"
      ]
     },
     "metadata": {},
     "output_type": "display_data"
    },
    {
     "data": {
      "image/png": "[encoded data removed]",
      "text/plain": [
       "<matplotlib.figure.Figure at 0x1644072eba8>"
      ]
     },
     "metadata": {},
     "output_type": "display_data"
    },
    {
     "name": "stdout",
     "output_type": "stream",
     "text": [
      "Index 300, epsilon 0.70\n",
      "Action.BUY_HALF -- 42 / 100\n",
      "Action.BUY_MAX -- 11 / 100\n",
      "Action.HOLD -- 18 / 100\n",
      "Action.SELL_HALF -- 20 / 100\n",
      "Action.SELL_MAX -- 9 / 100\n",
      "Total asset: $251.17 USD ($125.58 USD, 0.33 BTC)\n",
      "Close BTC price: $377.10 USD / BTC\n",
      "Trade return: $51.17 USD\n",
      "Static return: $51.40 USD\n",
      "Model loss: 198.62\n",
      "\n",
      "\n",
      "\n"
     ]
    },
    {
     "data": {
      "text/plain": [
       "<matplotlib.figure.Figure at 0x16388f1df98>"
      ]
     },
     "metadata": {},
     "output_type": "display_data"
    },
    {
     "data": {
      "image/png": "[encoded data removed]",
      "text/plain": [
       "<matplotlib.figure.Figure at 0x164445c6c88>"
      ]
     },
     "metadata": {},
     "output_type": "display_data"
    },
    {
     "name": "stdout",
     "output_type": "stream",
     "text": [
      "Index 400, epsilon 0.60\n",
      "Action.BUY_HALF -- 45 / 100\n",
      "Action.BUY_MAX -- 15 / 100\n",
      "Action.HOLD -- 13 / 100\n",
      "Action.SELL_HALF -- 14 / 100\n",
      "Action.SELL_MAX -- 13 / 100\n",
      "Total asset: $251.17 USD ($251.17 USD, 0.00 BTC)\n",
      "Close BTC price: $377.10 USD / BTC\n",
      "Trade return: $51.17 USD\n",
      "Static return: $51.40 USD\n",
      "Model loss: 113.89\n",
      "\n",
      "\n",
      "\n"
     ]
    },
    {
     "data": {
      "text/plain": [
       "<matplotlib.figure.Figure at 0x164408923c8>"
      ]
     },
     "metadata": {},
     "output_type": "display_data"
    },
    {
     "data": {
      "image/png": "[encoded data removed]",
      "text/plain": [
       "<matplotlib.figure.Figure at 0x164408cc390>"
      ]
     },
     "metadata": {},
     "output_type": "display_data"
    },
    {
     "name": "stdout",
     "output_type": "stream",
     "text": [
      "Index 500, epsilon 0.50\n",
      "Action.BUY_HALF -- 48 / 100\n",
      "Action.BUY_MAX -- 8 / 100\n",
      "Action.HOLD -- 9 / 100\n",
      "Action.SELL_HALF -- 15 / 100\n",
      "Action.SELL_MAX -- 20 / 100\n",
      "Total asset: $251.17 USD ($0.00 USD, 0.66 BTC)\n",
      "Close BTC price: $378.00 USD / BTC\n",
      "Trade return: $51.17 USD\n",
      "Static return: $52.00 USD\n",
      "Model loss: 126.48\n",
      "\n",
      "\n",
      "\n"
     ]
    },
    {
     "data": {
      "text/plain": [
       "<matplotlib.figure.Figure at 0x1644069c080>"
      ]
     },
     "metadata": {},
     "output_type": "display_data"
    },
    {
     "data": {
      "image/png": "[encoded data removed]",
      "text/plain": [
       "<matplotlib.figure.Figure at 0x16440694198>"
      ]
     },
     "metadata": {},
     "output_type": "display_data"
    },
    {
     "name": "stdout",
     "output_type": "stream",
     "text": [
      "Index 600, epsilon 0.40\n",
      "Action.BUY_HALF -- 68 / 100\n",
      "Action.BUY_MAX -- 11 / 100\n",
      "Action.HOLD -- 11 / 100\n",
      "Action.SELL_HALF -- 2 / 100\n",
      "Action.SELL_MAX -- 8 / 100\n",
      "Total asset: $251.17 USD ($0.00 USD, 0.66 BTC)\n",
      "Close BTC price: $378.00 USD / BTC\n",
      "Trade return: $51.17 USD\n",
      "Static return: $52.00 USD\n",
      "Model loss: 69.46\n",
      "\n",
      "\n",
      "\n"
     ]
    },
    {
     "data": {
      "text/plain": [
       "<matplotlib.figure.Figure at 0x16419c43828>"
      ]
     },
     "metadata": {},
     "output_type": "display_data"
    },
    {
     "data": {
      "image/png": "[encoded data removed]",
      "text/plain": [
       "<matplotlib.figure.Figure at 0x164406b6e48>"
      ]
     },
     "metadata": {},
     "output_type": "display_data"
    },
    {
     "name": "stdout",
     "output_type": "stream",
     "text": [
      "Index 700, epsilon 0.30\n",
      "Action.BUY_HALF -- 71 / 100\n",
      "Action.BUY_MAX -- 5 / 100\n",
      "Action.HOLD -- 7 / 100\n",
      "Action.SELL_HALF -- 11 / 100\n",
      "Action.SELL_MAX -- 6 / 100\n",
      "Total asset: $249.71 USD ($0.00 USD, 0.67 BTC)\n",
      "Close BTC price: $375.00 USD / BTC\n",
      "Trade return: $49.71 USD\n",
      "Static return: $50.00 USD\n",
      "Model loss: 97.26\n",
      "\n",
      "\n",
      "\n"
     ]
    },
    {
     "data": {
      "text/plain": [
       "<matplotlib.figure.Figure at 0x1643e0efb38>"
      ]
     },
     "metadata": {},
     "output_type": "display_data"
    },
    {
     "data": {
      "image/png": "[encoded data removed]",
      "text/plain": [
       "<matplotlib.figure.Figure at 0x1643e0ebeb8>"
      ]
     },
     "metadata": {},
     "output_type": "display_data"
    },
    {
     "name": "stdout",
     "output_type": "stream",
     "text": [
      "Index 800, epsilon 0.20\n",
      "Action.BUY_HALF -- 79 / 100\n",
      "Action.BUY_MAX -- 3 / 100\n",
      "Action.HOLD -- 5 / 100\n",
      "Action.SELL_HALF -- 8 / 100\n",
      "Action.SELL_MAX -- 5 / 100\n",
      "Total asset: $242.62 USD ($242.62 USD, 0.00 BTC)\n",
      "Close BTC price: $360.50 USD / BTC\n",
      "Trade return: $42.62 USD\n",
      "Static return: $40.33 USD\n",
      "Model loss: 81.24\n",
      "\n",
      "\n",
      "\n"
     ]
    },
    {
     "data": {
      "text/plain": [
       "<matplotlib.figure.Figure at 0x1644069c438>"
      ]
     },
     "metadata": {},
     "output_type": "display_data"
    },
    {
     "data": {
      "image/png": "[encoded data removed]",
      "text/plain": [
       "<matplotlib.figure.Figure at 0x16440878198>"
      ]
     },
     "metadata": {},
     "output_type": "display_data"
    },
    {
     "name": "stdout",
     "output_type": "stream",
     "text": [
      "Index 900, epsilon 0.10\n",
      "Action.BUY_HALF -- 85 / 100\n",
      "Action.BUY_MAX -- 7 / 100\n",
      "Action.HOLD -- 4 / 100\n",
      "Action.SELL_HALF -- 2 / 100\n",
      "Action.SELL_MAX -- 2 / 100\n",
      "Total asset: $242.62 USD ($0.00 USD, 0.67 BTC)\n",
      "Close BTC price: $360.50 USD / BTC\n",
      "Trade return: $42.62 USD\n",
      "Static return: $40.33 USD\n",
      "Model loss: 52.80\n",
      "\n",
      "\n",
      "\n"
     ]
    },
    {
     "data": {
      "text/plain": [
       "<matplotlib.figure.Figure at 0x164194d58d0>"
      ]
     },
     "metadata": {},
     "output_type": "display_data"
    },
    {
     "data": {
      "image/png": "[encoded data removed]",
      "text/plain": [
       "<matplotlib.figure.Figure at 0x1641a0710b8>"
      ]
     },
     "metadata": {},
     "output_type": "display_data"
    },
    {
     "name": "stdout",
     "output_type": "stream",
     "text": [
      "Index 1000, epsilon 0.10\n",
      "Action.BUY_HALF -- 90 / 100\n",
      "Action.BUY_MAX -- 1 / 100\n",
      "Action.HOLD -- 3 / 100\n",
      "Action.SELL_HALF -- 3 / 100\n",
      "Action.SELL_MAX -- 3 / 100\n",
      "Total asset: $235.55 USD ($0.00 USD, 0.67 BTC)\n",
      "Close BTC price: $350.00 USD / BTC\n",
      "Trade return: $35.55 USD\n",
      "Static return: $33.33 USD\n",
      "Model loss: 88.17\n",
      "\n",
      "\n",
      "\n"
     ]
    },
    {
     "data": {
      "text/plain": [
       "<matplotlib.figure.Figure at 0x16440655eb8>"
      ]
     },
     "metadata": {},
     "output_type": "display_data"
    },
    {
     "data": {
      "image/png": "[encoded data removed]",
      "text/plain": [
       "<matplotlib.figure.Figure at 0x164407c59e8>"
      ]
     },
     "metadata": {},
     "output_type": "display_data"
    },
    {
     "name": "stdout",
     "output_type": "stream",
     "text": [
      "Index 1100, epsilon 0.10\n",
      "Action.BUY_HALF -- 90 / 100\n",
      "Action.BUY_MAX -- 2 / 100\n",
      "Action.HOLD -- 3 / 100\n",
      "Action.SELL_HALF -- 4 / 100\n",
      "Action.SELL_MAX -- 1 / 100\n",
      "Total asset: $235.55 USD ($0.00 USD, 0.67 BTC)\n",
      "Close BTC price: $350.00 USD / BTC\n",
      "Trade return: $35.55 USD\n",
      "Static return: $33.33 USD\n",
      "Model loss: 64.35\n",
      "\n",
      "\n",
      "\n"
     ]
    },
    {
     "data": {
      "text/plain": [
       "<matplotlib.figure.Figure at 0x1641a091550>"
      ]
     },
     "metadata": {},
     "output_type": "display_data"
    },
    {
     "data": {
      "image/png": "[encoded data removed]",
      "text/plain": [
       "<matplotlib.figure.Figure at 0x1641a07c7b8>"
      ]
     },
     "metadata": {},
     "output_type": "display_data"
    },
    {
     "name": "stdout",
     "output_type": "stream",
     "text": [
      "Index 1200, epsilon 0.10\n",
      "Action.BUY_HALF -- 94 / 100\n",
      "Action.BUY_MAX -- 4 / 100\n",
      "Action.HOLD -- 0 / 100\n",
      "Action.SELL_HALF -- 1 / 100\n",
      "Action.SELL_MAX -- 1 / 100\n",
      "Total asset: $235.55 USD ($0.00 USD, 0.67 BTC)\n",
      "Close BTC price: $350.00 USD / BTC\n",
      "Trade return: $35.55 USD\n",
      "Static return: $33.33 USD\n",
      "Model loss: 92.71\n",
      "\n",
      "\n",
      "\n"
     ]
    },
    {
     "data": {
      "text/plain": [
       "<matplotlib.figure.Figure at 0x16419c3a240>"
      ]
     },
     "metadata": {},
     "output_type": "display_data"
    },
    {
     "data": {
      "image/png": "[encoded data removed]",
      "text/plain": [
       "<matplotlib.figure.Figure at 0x16419c4d128>"
      ]
     },
     "metadata": {},
     "output_type": "display_data"
    },
    {
     "ename": "KeyboardInterrupt",
     "evalue": "",
     "output_type": "error",
     "traceback": [
      "\u001b[1;31m---------------------------------------------------------------------------\u001b[0m",
      "\u001b[1;31mKeyboardInterrupt\u001b[0m                         Traceback (most recent call last)",
      "\u001b[1;32m<ipython-input-23-03d8e5d2e7e3>\u001b[0m in \u001b[0;36m<module>\u001b[1;34m()\u001b[0m\n\u001b[1;32m----> 1\u001b[1;33m \u001b[0magent\u001b[0m\u001b[1;33m.\u001b[0m\u001b[0mrun\u001b[0m\u001b[1;33m(\u001b[0m\u001b[1;33m)\u001b[0m\u001b[1;33m\u001b[0m\u001b[0m\n\u001b[0m",
      "\u001b[1;32m<ipython-input-21-625affc07b34>\u001b[0m in \u001b[0;36mrun\u001b[1;34m(self)\u001b[0m\n\u001b[0;32m    167\u001b[0m \u001b[1;33m\u001b[0m\u001b[0m\n\u001b[0;32m    168\u001b[0m                     \u001b[0minputs\u001b[0m\u001b[1;33m[\u001b[0m\u001b[0mi\u001b[0m\u001b[1;33m]\u001b[0m \u001b[1;33m=\u001b[0m \u001b[0mstate_t\u001b[0m\u001b[1;33m\u001b[0m\u001b[0m\n\u001b[1;32m--> 169\u001b[1;33m                     \u001b[0mtargets\u001b[0m\u001b[1;33m[\u001b[0m\u001b[0mi\u001b[0m\u001b[1;33m]\u001b[0m \u001b[1;33m=\u001b[0m \u001b[0mself\u001b[0m\u001b[1;33m.\u001b[0m\u001b[0mmodel\u001b[0m\u001b[1;33m.\u001b[0m\u001b[0mpredict\u001b[0m\u001b[1;33m(\u001b[0m\u001b[0mstate_t\u001b[0m\u001b[1;33m)\u001b[0m\u001b[1;33m\u001b[0m\u001b[0m\n\u001b[0m\u001b[0;32m    170\u001b[0m                     \u001b[0mnext_action_values\u001b[0m \u001b[1;33m=\u001b[0m \u001b[0mself\u001b[0m\u001b[1;33m.\u001b[0m\u001b[0mmodel\u001b[0m\u001b[1;33m.\u001b[0m\u001b[0mpredict\u001b[0m\u001b[1;33m(\u001b[0m\u001b[0mnext_state_t\u001b[0m\u001b[1;33m)\u001b[0m\u001b[1;33m\u001b[0m\u001b[0m\n\u001b[0;32m    171\u001b[0m \u001b[1;33m\u001b[0m\u001b[0m\n",
      "\u001b[1;32mC:\\Users\\agian\\AppData\\Local\\Continuum\\Anaconda3\\envs\\toybox\\lib\\site-packages\\keras\\models.py\u001b[0m in \u001b[0;36mpredict\u001b[1;34m(self, x, batch_size, verbose)\u001b[0m\n\u001b[0;32m    907\u001b[0m         \u001b[1;32mif\u001b[0m \u001b[0mself\u001b[0m\u001b[1;33m.\u001b[0m\u001b[0mmodel\u001b[0m \u001b[1;32mis\u001b[0m \u001b[1;32mNone\u001b[0m\u001b[1;33m:\u001b[0m\u001b[1;33m\u001b[0m\u001b[0m\n\u001b[0;32m    908\u001b[0m             \u001b[0mself\u001b[0m\u001b[1;33m.\u001b[0m\u001b[0mbuild\u001b[0m\u001b[1;33m(\u001b[0m\u001b[1;33m)\u001b[0m\u001b[1;33m\u001b[0m\u001b[0m\n\u001b[1;32m--> 909\u001b[1;33m         \u001b[1;32mreturn\u001b[0m \u001b[0mself\u001b[0m\u001b[1;33m.\u001b[0m\u001b[0mmodel\u001b[0m\u001b[1;33m.\u001b[0m\u001b[0mpredict\u001b[0m\u001b[1;33m(\u001b[0m\u001b[0mx\u001b[0m\u001b[1;33m,\u001b[0m \u001b[0mbatch_size\u001b[0m\u001b[1;33m=\u001b[0m\u001b[0mbatch_size\u001b[0m\u001b[1;33m,\u001b[0m \u001b[0mverbose\u001b[0m\u001b[1;33m=\u001b[0m\u001b[0mverbose\u001b[0m\u001b[1;33m)\u001b[0m\u001b[1;33m\u001b[0m\u001b[0m\n\u001b[0m\u001b[0;32m    910\u001b[0m \u001b[1;33m\u001b[0m\u001b[0m\n\u001b[0;32m    911\u001b[0m     \u001b[1;32mdef\u001b[0m \u001b[0mpredict_on_batch\u001b[0m\u001b[1;33m(\u001b[0m\u001b[0mself\u001b[0m\u001b[1;33m,\u001b[0m \u001b[0mx\u001b[0m\u001b[1;33m)\u001b[0m\u001b[1;33m:\u001b[0m\u001b[1;33m\u001b[0m\u001b[0m\n",
      "\u001b[1;32mC:\\Users\\agian\\AppData\\Local\\Continuum\\Anaconda3\\envs\\toybox\\lib\\site-packages\\keras\\engine\\training.py\u001b[0m in \u001b[0;36mpredict\u001b[1;34m(self, x, batch_size, verbose)\u001b[0m\n\u001b[0;32m   1515\u001b[0m         \u001b[0mf\u001b[0m \u001b[1;33m=\u001b[0m \u001b[0mself\u001b[0m\u001b[1;33m.\u001b[0m\u001b[0mpredict_function\u001b[0m\u001b[1;33m\u001b[0m\u001b[0m\n\u001b[0;32m   1516\u001b[0m         return self._predict_loop(f, ins,\n\u001b[1;32m-> 1517\u001b[1;33m                                   batch_size=batch_size, verbose=verbose)\n\u001b[0m\u001b[0;32m   1518\u001b[0m \u001b[1;33m\u001b[0m\u001b[0m\n\u001b[0;32m   1519\u001b[0m     def train_on_batch(self, x, y,\n",
      "\u001b[1;32mC:\\Users\\agian\\AppData\\Local\\Continuum\\Anaconda3\\envs\\toybox\\lib\\site-packages\\keras\\engine\\training.py\u001b[0m in \u001b[0;36m_predict_loop\u001b[1;34m(self, f, ins, batch_size, verbose)\u001b[0m\n\u001b[0;32m   1139\u001b[0m                 \u001b[0mins_batch\u001b[0m \u001b[1;33m=\u001b[0m \u001b[0m_slice_arrays\u001b[0m\u001b[1;33m(\u001b[0m\u001b[0mins\u001b[0m\u001b[1;33m,\u001b[0m \u001b[0mbatch_ids\u001b[0m\u001b[1;33m)\u001b[0m\u001b[1;33m\u001b[0m\u001b[0m\n\u001b[0;32m   1140\u001b[0m \u001b[1;33m\u001b[0m\u001b[0m\n\u001b[1;32m-> 1141\u001b[1;33m             \u001b[0mbatch_outs\u001b[0m \u001b[1;33m=\u001b[0m \u001b[0mf\u001b[0m\u001b[1;33m(\u001b[0m\u001b[0mins_batch\u001b[0m\u001b[1;33m)\u001b[0m\u001b[1;33m\u001b[0m\u001b[0m\n\u001b[0m\u001b[0;32m   1142\u001b[0m             \u001b[1;32mif\u001b[0m \u001b[1;32mnot\u001b[0m \u001b[0misinstance\u001b[0m\u001b[1;33m(\u001b[0m\u001b[0mbatch_outs\u001b[0m\u001b[1;33m,\u001b[0m \u001b[0mlist\u001b[0m\u001b[1;33m)\u001b[0m\u001b[1;33m:\u001b[0m\u001b[1;33m\u001b[0m\u001b[0m\n\u001b[0;32m   1143\u001b[0m                 \u001b[0mbatch_outs\u001b[0m \u001b[1;33m=\u001b[0m \u001b[1;33m[\u001b[0m\u001b[0mbatch_outs\u001b[0m\u001b[1;33m]\u001b[0m\u001b[1;33m\u001b[0m\u001b[0m\n",
      "\u001b[1;32mC:\\Users\\agian\\AppData\\Local\\Continuum\\Anaconda3\\envs\\toybox\\lib\\site-packages\\keras\\backend\\tensorflow_backend.py\u001b[0m in \u001b[0;36m__call__\u001b[1;34m(self, inputs)\u001b[0m\n\u001b[0;32m   2266\u001b[0m         updated = session.run(self.outputs + [self.updates_op],\n\u001b[0;32m   2267\u001b[0m                               \u001b[0mfeed_dict\u001b[0m\u001b[1;33m=\u001b[0m\u001b[0mfeed_dict\u001b[0m\u001b[1;33m,\u001b[0m\u001b[1;33m\u001b[0m\u001b[0m\n\u001b[1;32m-> 2268\u001b[1;33m                               **self.session_kwargs)\n\u001b[0m\u001b[0;32m   2269\u001b[0m         \u001b[1;32mreturn\u001b[0m \u001b[0mupdated\u001b[0m\u001b[1;33m[\u001b[0m\u001b[1;33m:\u001b[0m\u001b[0mlen\u001b[0m\u001b[1;33m(\u001b[0m\u001b[0mself\u001b[0m\u001b[1;33m.\u001b[0m\u001b[0moutputs\u001b[0m\u001b[1;33m)\u001b[0m\u001b[1;33m]\u001b[0m\u001b[1;33m\u001b[0m\u001b[0m\n\u001b[0;32m   2270\u001b[0m \u001b[1;33m\u001b[0m\u001b[0m\n",
      "\u001b[1;32mC:\\Users\\agian\\AppData\\Local\\Continuum\\Anaconda3\\envs\\toybox\\lib\\site-packages\\tensorflow\\python\\client\\session.py\u001b[0m in \u001b[0;36mrun\u001b[1;34m(self, fetches, feed_dict, options, run_metadata)\u001b[0m\n\u001b[0;32m    787\u001b[0m     \u001b[1;32mtry\u001b[0m\u001b[1;33m:\u001b[0m\u001b[1;33m\u001b[0m\u001b[0m\n\u001b[0;32m    788\u001b[0m       result = self._run(None, fetches, feed_dict, options_ptr,\n\u001b[1;32m--> 789\u001b[1;33m                          run_metadata_ptr)\n\u001b[0m\u001b[0;32m    790\u001b[0m       \u001b[1;32mif\u001b[0m \u001b[0mrun_metadata\u001b[0m\u001b[1;33m:\u001b[0m\u001b[1;33m\u001b[0m\u001b[0m\n\u001b[0;32m    791\u001b[0m         \u001b[0mproto_data\u001b[0m \u001b[1;33m=\u001b[0m \u001b[0mtf_session\u001b[0m\u001b[1;33m.\u001b[0m\u001b[0mTF_GetBuffer\u001b[0m\u001b[1;33m(\u001b[0m\u001b[0mrun_metadata_ptr\u001b[0m\u001b[1;33m)\u001b[0m\u001b[1;33m\u001b[0m\u001b[0m\n",
      "\u001b[1;32mC:\\Users\\agian\\AppData\\Local\\Continuum\\Anaconda3\\envs\\toybox\\lib\\site-packages\\tensorflow\\python\\client\\session.py\u001b[0m in \u001b[0;36m_run\u001b[1;34m(self, handle, fetches, feed_dict, options, run_metadata)\u001b[0m\n\u001b[0;32m    995\u001b[0m     \u001b[1;32mif\u001b[0m \u001b[0mfinal_fetches\u001b[0m \u001b[1;32mor\u001b[0m \u001b[0mfinal_targets\u001b[0m\u001b[1;33m:\u001b[0m\u001b[1;33m\u001b[0m\u001b[0m\n\u001b[0;32m    996\u001b[0m       results = self._do_run(handle, final_targets, final_fetches,\n\u001b[1;32m--> 997\u001b[1;33m                              feed_dict_string, options, run_metadata)\n\u001b[0m\u001b[0;32m    998\u001b[0m     \u001b[1;32melse\u001b[0m\u001b[1;33m:\u001b[0m\u001b[1;33m\u001b[0m\u001b[0m\n\u001b[0;32m    999\u001b[0m       \u001b[0mresults\u001b[0m \u001b[1;33m=\u001b[0m \u001b[1;33m[\u001b[0m\u001b[1;33m]\u001b[0m\u001b[1;33m\u001b[0m\u001b[0m\n",
      "\u001b[1;32mC:\\Users\\agian\\AppData\\Local\\Continuum\\Anaconda3\\envs\\toybox\\lib\\site-packages\\tensorflow\\python\\client\\session.py\u001b[0m in \u001b[0;36m_do_run\u001b[1;34m(self, handle, target_list, fetch_list, feed_dict, options, run_metadata)\u001b[0m\n\u001b[0;32m   1130\u001b[0m     \u001b[1;32mif\u001b[0m \u001b[0mhandle\u001b[0m \u001b[1;32mis\u001b[0m \u001b[1;32mNone\u001b[0m\u001b[1;33m:\u001b[0m\u001b[1;33m\u001b[0m\u001b[0m\n\u001b[0;32m   1131\u001b[0m       return self._do_call(_run_fn, self._session, feed_dict, fetch_list,\n\u001b[1;32m-> 1132\u001b[1;33m                            target_list, options, run_metadata)\n\u001b[0m\u001b[0;32m   1133\u001b[0m     \u001b[1;32melse\u001b[0m\u001b[1;33m:\u001b[0m\u001b[1;33m\u001b[0m\u001b[0m\n\u001b[0;32m   1134\u001b[0m       return self._do_call(_prun_fn, self._session, handle, feed_dict,\n",
      "\u001b[1;32mC:\\Users\\agian\\AppData\\Local\\Continuum\\Anaconda3\\envs\\toybox\\lib\\site-packages\\tensorflow\\python\\client\\session.py\u001b[0m in \u001b[0;36m_do_call\u001b[1;34m(self, fn, *args)\u001b[0m\n\u001b[0;32m   1137\u001b[0m   \u001b[1;32mdef\u001b[0m \u001b[0m_do_call\u001b[0m\u001b[1;33m(\u001b[0m\u001b[0mself\u001b[0m\u001b[1;33m,\u001b[0m \u001b[0mfn\u001b[0m\u001b[1;33m,\u001b[0m \u001b[1;33m*\u001b[0m\u001b[0margs\u001b[0m\u001b[1;33m)\u001b[0m\u001b[1;33m:\u001b[0m\u001b[1;33m\u001b[0m\u001b[0m\n\u001b[0;32m   1138\u001b[0m     \u001b[1;32mtry\u001b[0m\u001b[1;33m:\u001b[0m\u001b[1;33m\u001b[0m\u001b[0m\n\u001b[1;32m-> 1139\u001b[1;33m       \u001b[1;32mreturn\u001b[0m \u001b[0mfn\u001b[0m\u001b[1;33m(\u001b[0m\u001b[1;33m*\u001b[0m\u001b[0margs\u001b[0m\u001b[1;33m)\u001b[0m\u001b[1;33m\u001b[0m\u001b[0m\n\u001b[0m\u001b[0;32m   1140\u001b[0m     \u001b[1;32mexcept\u001b[0m \u001b[0merrors\u001b[0m\u001b[1;33m.\u001b[0m\u001b[0mOpError\u001b[0m \u001b[1;32mas\u001b[0m \u001b[0me\u001b[0m\u001b[1;33m:\u001b[0m\u001b[1;33m\u001b[0m\u001b[0m\n\u001b[0;32m   1141\u001b[0m       \u001b[0mmessage\u001b[0m \u001b[1;33m=\u001b[0m \u001b[0mcompat\u001b[0m\u001b[1;33m.\u001b[0m\u001b[0mas_text\u001b[0m\u001b[1;33m(\u001b[0m\u001b[0me\u001b[0m\u001b[1;33m.\u001b[0m\u001b[0mmessage\u001b[0m\u001b[1;33m)\u001b[0m\u001b[1;33m\u001b[0m\u001b[0m\n",
      "\u001b[1;32mC:\\Users\\agian\\AppData\\Local\\Continuum\\Anaconda3\\envs\\toybox\\lib\\site-packages\\tensorflow\\python\\client\\session.py\u001b[0m in \u001b[0;36m_run_fn\u001b[1;34m(session, feed_dict, fetch_list, target_list, options, run_metadata)\u001b[0m\n\u001b[0;32m   1119\u001b[0m         return tf_session.TF_Run(session, options,\n\u001b[0;32m   1120\u001b[0m                                  \u001b[0mfeed_dict\u001b[0m\u001b[1;33m,\u001b[0m \u001b[0mfetch_list\u001b[0m\u001b[1;33m,\u001b[0m \u001b[0mtarget_list\u001b[0m\u001b[1;33m,\u001b[0m\u001b[1;33m\u001b[0m\u001b[0m\n\u001b[1;32m-> 1121\u001b[1;33m                                  status, run_metadata)\n\u001b[0m\u001b[0;32m   1122\u001b[0m \u001b[1;33m\u001b[0m\u001b[0m\n\u001b[0;32m   1123\u001b[0m     \u001b[1;32mdef\u001b[0m \u001b[0m_prun_fn\u001b[0m\u001b[1;33m(\u001b[0m\u001b[0msession\u001b[0m\u001b[1;33m,\u001b[0m \u001b[0mhandle\u001b[0m\u001b[1;33m,\u001b[0m \u001b[0mfeed_dict\u001b[0m\u001b[1;33m,\u001b[0m \u001b[0mfetch_list\u001b[0m\u001b[1;33m)\u001b[0m\u001b[1;33m:\u001b[0m\u001b[1;33m\u001b[0m\u001b[0m\n",
      "\u001b[1;31mKeyboardInterrupt\u001b[0m: "
     ]
    }
   ],
   "source": [
    "agent.run()"
   ]
  },
  {
   "cell_type": "code",
   "execution_count": null,
   "metadata": {
    "collapsed": true
   },
   "outputs": [],
   "source": []
  }
 ],
 "metadata": {
  "kernelspec": {
   "display_name": "Python 3",
   "language": "python",
   "name": "python3"
  },
  "language_info": {
   "codemirror_mode": {
    "name": "ipython",
    "version": 3
   },
   "file_extension": ".py",
   "mimetype": "text/x-python",
   "name": "python",
   "nbconvert_exporter": "python",
   "pygments_lexer": "ipython3",
   "version": "3.5.3"
  }
 },
 "nbformat": 4,
 "nbformat_minor": 2
}
