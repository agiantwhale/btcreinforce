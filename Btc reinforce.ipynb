{
 "cells": [
  {
   "cell_type": "code",
   "execution_count": 61,
   "metadata": {
    "collapsed": true
   },
   "outputs": [],
   "source": [
    "import numpy as np\n",
    "import pandas as pd\n",
    "import matplotlib.pyplot as plt"
   ]
  },
  {
   "cell_type": "code",
   "execution_count": 63,
   "metadata": {},
   "outputs": [],
   "source": [
    "from keras.models import Sequential\n",
    "from keras.layers import Dense, Dropout, Activation, Flatten\n",
    "from keras.layers import Convolution2D, MaxPooling2D\n",
    "from keras.utils import np_utils"
   ]
  },
  {
   "cell_type": "code",
   "execution_count": 64,
   "metadata": {},
   "outputs": [],
   "source": [
    "btc_csv = pd.read_csv(\"coinbaseUSD.csv\", skiprows = None)"
   ]
  },
  {
   "cell_type": "code",
   "execution_count": 65,
   "metadata": {},
   "outputs": [
    {
     "name": "stdout",
     "output_type": "stream",
     "text": [
      "<class 'pandas.core.frame.DataFrame'>\n",
      "RangeIndex: 18192816 entries, 0 to 18192815\n",
      "Data columns (total 3 columns):\n",
      "1417412036          int64\n",
      "300.000000000000    float64\n",
      "0.010000000000      float64\n",
      "dtypes: float64(2), int64(1)\n",
      "memory usage: 416.4 MB\n"
     ]
    }
   ],
   "source": [
    "btc_csv.info()\n",
    "\n",
    "btc_np = btc_csv.values"
   ]
  },
  {
   "cell_type": "code",
   "execution_count": 66,
   "metadata": {},
   "outputs": [],
   "source": [
    "timestamps = btc_np[:, 0]\n",
    "rolled_timestamps = np.roll(timestamps, 1)\n",
    "\n",
    "timestamps = timestamps[1:-1]\n",
    "rolled_timestamps = rolled_timestamps[1:-1]"
   ]
  },
  {
   "cell_type": "code",
   "execution_count": 79,
   "metadata": {},
   "outputs": [],
   "source": [
    "deltas = timestamps - rolled_timestamps"
   ]
  },
  {
   "cell_type": "code",
   "execution_count": 118,
   "metadata": {},
   "outputs": [
    {
     "name": "stdout",
     "output_type": "stream",
     "text": [
      "0.0\n",
      "1744025.0\n",
      "4.5578528973\n",
      "0.0\n",
      "453.512367144\n"
     ]
    }
   ],
   "source": [
    "print(np.min(deltas))\n",
    "print(np.max(deltas))\n",
    "print(np.mean(deltas))\n",
    "print(np.median(deltas))\n",
    "print(np.std(deltas))"
   ]
  },
  {
   "cell_type": "code",
   "execution_count": 87,
   "metadata": {},
   "outputs": [
    {
     "data": {
      "image/png": "[encoded data removed]",
      "text/plain": [
       "<matplotlib.figure.Figure at 0x125329898>"
      ]
     },
     "metadata": {},
     "output_type": "display_data"
    }
   ],
   "source": [
    "plt.hist(delta)\n",
    "plt.show()"
   ]
  },
  {
   "cell_type": "code",
   "execution_count": 126,
   "metadata": {},
   "outputs": [
    {
     "name": "stdout",
     "output_type": "stream",
     "text": [
      "[]\n"
     ]
    }
   ],
   "source": [
    "sanitized = np.empty((0,2))"
   ]
  },
  {
   "cell_type": "code",
   "execution_count": 130,
   "metadata": {},
   "outputs": [],
   "source": [
    "TIMESTEP = 500\n",
    "\n",
    "current_timestamp = btc_np[0, 0]\n",
    "current_price = btc_np[0, 1]\n",
    "\n",
    "for x in btc_np[1:]:\n",
    "    target_timestamp = x[0]\n",
    "    \n",
    "    while current_timestamp < target_timestamp:\n",
    "        row = [[current_timestamp, current_price]]\n",
    "        sanitized = np.append(sanitized, row, axis = 0)\n",
    "        current_timestamp += TIMESTEP\n",
    "    \n",
    "    current_price = x[1]"
   ]
  }
 ],
 "metadata": {
  "kernelspec": {
   "display_name": "Python 3",
   "language": "python",
   "name": "python3"
  },
  "language_info": {
   "codemirror_mode": {
    "name": "ipython",
    "version": 3
   },
   "file_extension": ".py",
   "mimetype": "text/x-python",
   "name": "python",
   "nbconvert_exporter": "python",
   "pygments_lexer": "ipython3",
   "version": "3.6.1"
  }
 },
 "nbformat": 4,
 "nbformat_minor": 2
}
