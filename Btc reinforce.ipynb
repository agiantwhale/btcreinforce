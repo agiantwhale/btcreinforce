{
 "cells": [
  {
   "cell_type": "markdown",
   "metadata": {},
   "source": [
    "# Bitcoin Reinforcement Learning\n",
    "\n",
    "## Assumptions\n",
    "* Agent's actions are small enough that it will not affect the future price of bitcon. (If so, will reinforcement learning be affective?)\n",
    "* Agent will make decisions and execute transactions in a fixed timestep.\n",
    "* The price of latest transaction will be the price of bitcoin at that time."
   ]
  },
  {
   "cell_type": "code",
   "execution_count": 1,
   "metadata": {
    "collapsed": true
   },
   "outputs": [],
   "source": [
    "from IPython.display import clear_output"
   ]
  },
  {
   "cell_type": "code",
   "execution_count": 2,
   "metadata": {
    "collapsed": true
   },
   "outputs": [],
   "source": [
    "from enum import Enum, unique\n",
    "from collections import deque\n",
    "import random"
   ]
  },
  {
   "cell_type": "code",
   "execution_count": 3,
   "metadata": {
    "collapsed": true
   },
   "outputs": [],
   "source": [
    "import numpy as np\n",
    "import pandas as pd\n",
    "import matplotlib.pyplot as plt"
   ]
  },
  {
   "cell_type": "code",
   "execution_count": 4,
   "metadata": {},
   "outputs": [
    {
     "name": "stderr",
     "output_type": "stream",
     "text": [
      "Using TensorFlow backend.\n"
     ]
    }
   ],
   "source": [
    "from keras import backend as K\n",
    "from keras.models import Sequential\n",
    "from keras.layers import Dense, Dropout, Activation, Flatten\n",
    "from keras.layers import Convolution2D, MaxPooling2D\n",
    "from keras.utils import np_utils"
   ]
  },
  {
   "cell_type": "code",
   "execution_count": 5,
   "metadata": {
    "collapsed": true
   },
   "outputs": [],
   "source": [
    "btc_csv = pd.read_csv(\"coinbaseUSD.csv\", header = None, usecols = [0, 1], names = [\"timestamp\", \"price\"])"
   ]
  },
  {
   "cell_type": "code",
   "execution_count": 6,
   "metadata": {},
   "outputs": [
    {
     "name": "stdout",
     "output_type": "stream",
     "text": [
      "<class 'pandas.core.frame.DataFrame'>\n",
      "RangeIndex: 18192817 entries, 0 to 18192816\n",
      "Data columns (total 2 columns):\n",
      "timestamp    int64\n",
      "price        float64\n",
      "dtypes: float64(1), int64(1)\n",
      "memory usage: 277.6 MB\n"
     ]
    }
   ],
   "source": [
    "btc_csv.info()"
   ]
  },
  {
   "cell_type": "code",
   "execution_count": 7,
   "metadata": {},
   "outputs": [
    {
     "data": {
      "text/html": [
       "<div>\n",
       "<style>\n",
       "    .dataframe thead tr:only-child th {\n",
       "        text-align: right;\n",
       "    }\n",
       "\n",
       "    .dataframe thead th {\n",
       "        text-align: left;\n",
       "    }\n",
       "\n",
       "    .dataframe tbody tr th {\n",
       "        vertical-align: top;\n",
       "    }\n",
       "</style>\n",
       "<table border=\"1\" class=\"dataframe\">\n",
       "  <thead>\n",
       "    <tr style=\"text-align: right;\">\n",
       "      <th></th>\n",
       "      <th>timestamp</th>\n",
       "      <th>price</th>\n",
       "    </tr>\n",
       "  </thead>\n",
       "  <tbody>\n",
       "    <tr>\n",
       "      <th>0</th>\n",
       "      <td>1417412036</td>\n",
       "      <td>300.0</td>\n",
       "    </tr>\n",
       "    <tr>\n",
       "      <th>1</th>\n",
       "      <td>1417412423</td>\n",
       "      <td>300.0</td>\n",
       "    </tr>\n",
       "    <tr>\n",
       "      <th>2</th>\n",
       "      <td>1417415048</td>\n",
       "      <td>370.0</td>\n",
       "    </tr>\n",
       "    <tr>\n",
       "      <th>3</th>\n",
       "      <td>1417416612</td>\n",
       "      <td>370.0</td>\n",
       "    </tr>\n",
       "    <tr>\n",
       "      <th>4</th>\n",
       "      <td>1417498166</td>\n",
       "      <td>377.0</td>\n",
       "    </tr>\n",
       "  </tbody>\n",
       "</table>\n",
       "</div>"
      ],
      "text/plain": [
       "    timestamp  price\n",
       "0  1417412036  300.0\n",
       "1  1417412423  300.0\n",
       "2  1417415048  370.0\n",
       "3  1417416612  370.0\n",
       "4  1417498166  377.0"
      ]
     },
     "execution_count": 7,
     "metadata": {},
     "output_type": "execute_result"
    }
   ],
   "source": [
    "btc_csv.head(5)"
   ]
  },
  {
   "cell_type": "code",
   "execution_count": 8,
   "metadata": {},
   "outputs": [
    {
     "data": {
      "text/html": [
       "<div>\n",
       "<style>\n",
       "    .dataframe thead tr:only-child th {\n",
       "        text-align: right;\n",
       "    }\n",
       "\n",
       "    .dataframe thead th {\n",
       "        text-align: left;\n",
       "    }\n",
       "\n",
       "    .dataframe tbody tr th {\n",
       "        vertical-align: top;\n",
       "    }\n",
       "</style>\n",
       "<table border=\"1\" class=\"dataframe\">\n",
       "  <thead>\n",
       "    <tr style=\"text-align: right;\">\n",
       "      <th></th>\n",
       "      <th>timestamp</th>\n",
       "      <th>price</th>\n",
       "    </tr>\n",
       "  </thead>\n",
       "  <tbody>\n",
       "    <tr>\n",
       "      <th>count</th>\n",
       "      <td>1.819282e+07</td>\n",
       "      <td>1.819282e+07</td>\n",
       "    </tr>\n",
       "    <tr>\n",
       "      <th>mean</th>\n",
       "      <td>1.465828e+09</td>\n",
       "      <td>8.738391e+02</td>\n",
       "    </tr>\n",
       "    <tr>\n",
       "      <th>std</th>\n",
       "      <td>2.354160e+07</td>\n",
       "      <td>7.622207e+02</td>\n",
       "    </tr>\n",
       "    <tr>\n",
       "      <th>min</th>\n",
       "      <td>1.417412e+09</td>\n",
       "      <td>6.000000e-02</td>\n",
       "    </tr>\n",
       "    <tr>\n",
       "      <th>25%</th>\n",
       "      <td>1.446888e+09</td>\n",
       "      <td>3.479200e+02</td>\n",
       "    </tr>\n",
       "    <tr>\n",
       "      <th>50%</th>\n",
       "      <td>1.464890e+09</td>\n",
       "      <td>5.389900e+02</td>\n",
       "    </tr>\n",
       "    <tr>\n",
       "      <th>75%</th>\n",
       "      <td>1.489606e+09</td>\n",
       "      <td>1.142120e+03</td>\n",
       "    </tr>\n",
       "    <tr>\n",
       "      <th>max</th>\n",
       "      <td>1.500333e+09</td>\n",
       "      <td>2.999990e+03</td>\n",
       "    </tr>\n",
       "  </tbody>\n",
       "</table>\n",
       "</div>"
      ],
      "text/plain": [
       "          timestamp         price\n",
       "count  1.819282e+07  1.819282e+07\n",
       "mean   1.465828e+09  8.738391e+02\n",
       "std    2.354160e+07  7.622207e+02\n",
       "min    1.417412e+09  6.000000e-02\n",
       "25%    1.446888e+09  3.479200e+02\n",
       "50%    1.464890e+09  5.389900e+02\n",
       "75%    1.489606e+09  1.142120e+03\n",
       "max    1.500333e+09  2.999990e+03"
      ]
     },
     "execution_count": 8,
     "metadata": {},
     "output_type": "execute_result"
    }
   ],
   "source": [
    "btc_csv.describe()"
   ]
  },
  {
   "cell_type": "code",
   "execution_count": 9,
   "metadata": {},
   "outputs": [
    {
     "data": {
      "text/plain": [
       "<matplotlib.figure.Figure at 0x28989a4bac8>"
      ]
     },
     "metadata": {},
     "output_type": "display_data"
    },
    {
     "data": {
      "image/png": "[encoded data removed]",
      "text/plain": [
       "<matplotlib.figure.Figure at 0x28989a4ba90>"
      ]
     },
     "metadata": {},
     "output_type": "display_data"
    },
    {
     "data": {
      "image/png": "[encoded data removed]",
      "text/plain": [
       "<matplotlib.figure.Figure at 0x2898924c908>"
      ]
     },
     "metadata": {},
     "output_type": "display_data"
    }
   ],
   "source": [
    "plt.clf()\n",
    "btc_csv.hist(column = \"price\", bins=100)\n",
    "btc_csv.plot(x = \"timestamp\", y = \"price\")\n",
    "plt.show()"
   ]
  },
  {
   "cell_type": "code",
   "execution_count": 10,
   "metadata": {
    "collapsed": true
   },
   "outputs": [],
   "source": [
    "TIMESTEP = 1000\n",
    "\n",
    "btc_np = btc_csv.values\n",
    "current_timestamp = btc_np[0, 0]\n",
    "current_price = btc_np[0, 1]\n",
    "fixed_btc_data = np.empty((0, 2))\n",
    "\n",
    "for x in btc_np[1:]:\n",
    "    target_timestamp = x[0]\n",
    "    \n",
    "    while current_timestamp < target_timestamp:\n",
    "        row = [[current_timestamp, current_price]]\n",
    "        fixed_btc_data = np.append(fixed_btc_data, row, axis = 0)\n",
    "        current_timestamp += TIMESTEP\n",
    "    \n",
    "    current_price = x[1]"
   ]
  },
  {
   "cell_type": "code",
   "execution_count": 11,
   "metadata": {
    "collapsed": true
   },
   "outputs": [],
   "source": [
    "fixed_btc_data_df = pd.DataFrame(data = fixed_btc_data, columns = [\"timestamp\", \"price\"])"
   ]
  },
  {
   "cell_type": "code",
   "execution_count": 12,
   "metadata": {},
   "outputs": [
    {
     "data": {
      "text/plain": [
       "<matplotlib.figure.Figure at 0x289891fdbe0>"
      ]
     },
     "metadata": {},
     "output_type": "display_data"
    },
    {
     "data": {
      "image/png": "[encoded data removed]",
      "text/plain": [
       "<matplotlib.figure.Figure at 0x28a1f3260b8>"
      ]
     },
     "metadata": {},
     "output_type": "display_data"
    }
   ],
   "source": [
    "plt.clf()\n",
    "fixed_btc_data_df.plot(x = \"timestamp\", y = \"price\")\n",
    "plt.show()"
   ]
  },
  {
   "cell_type": "code",
   "execution_count": 13,
   "metadata": {
    "collapsed": true
   },
   "outputs": [],
   "source": [
    "class BTCAgent(object):\n",
    "    \"\"\"\n",
    "    Will this make me rich?\n",
    "    \"\"\"\n",
    "    \n",
    "    @unique\n",
    "    class Action(Enum):\n",
    "        BUY_HALF = 0\n",
    "        BUY_MAX = 1\n",
    "        HOLD = 2\n",
    "        SELL_HALF = 3\n",
    "        SELL_MAX = 4\n",
    "    \n",
    "    def __init__(self, btc_data, replay_memory_size = 300000, context_size = 100, num_iterations = 1, batch_size = 32):\n",
    "        self.btc_data = btc_data\n",
    "        self.usd_amount = 200\n",
    "        self.btc_amount = 0\n",
    "        self.replay_memory = deque(maxlen=replay_memory_size)\n",
    "        self.state = np.zeros((1, 3, 1, context_size))\n",
    "        self.num_iterations = num_iterations\n",
    "        self.batch_size = batch_size\n",
    "        self.epsilon = 1.0\n",
    "    \n",
    "    def _calculate_total_asset(self, usd_amount, btc_amount, btc_price):\n",
    "        return usd_amount + btc_amount * btc_price\n",
    "    \n",
    "    def _execute_order(self, action_index, usd_amount, btc_amount, btc_price, next_btc_price):\n",
    "        action = self.Action(action_index)\n",
    "        \n",
    "        if action == self.Action.BUY_HALF: # BUY\n",
    "            next_usd_amount = usd_amount / 2.0\n",
    "            next_btc_amount = btc_amount + usd_amount / (2.0 * btc_price)\n",
    "            \n",
    "        if action == self.Action.BUY_MAX: # BUY\n",
    "            next_usd_amount = 0.0\n",
    "            next_btc_amount = btc_amount + usd_amount / btc_price\n",
    "\n",
    "        if action == self.Action.HOLD: # HOLD\n",
    "            next_usd_amount = usd_amount\n",
    "            next_btc_amount = btc_amount\n",
    "\n",
    "        if action == self.Action.SELL_HALF: # SELL\n",
    "            next_usd_amount = usd_amount + (btc_amount / 2.0) * btc_price\n",
    "            next_btc_amount = btc_amount / 2.0\n",
    "            \n",
    "        if action == self.Action.SELL_MAX: # SELL\n",
    "            next_usd_amount = usd_amount + btc_amount * btc_price\n",
    "            next_btc_amount = 0.0\n",
    "\n",
    "        total_asset = self._calculate_total_asset(usd_amount, btc_amount, btc_price)\n",
    "        next_total_asset = self._calculate_total_asset(next_usd_amount, next_btc_amount, next_btc_price)\n",
    "        reward = next_total_asset - total_asset\n",
    "\n",
    "        return next_usd_amount, next_btc_amount, reward\n",
    "    \n",
    "    def _initialize_q_function(self):\n",
    "        model = Sequential()\n",
    "\n",
    "        model.add(Convolution2D(filters=128, kernel_size=(2, 1), padding='valid', activation='relu', input_shape=(3, 1, self.state.shape[-1])))\n",
    "        model.add(Dropout(0.05))\n",
    "\n",
    "        model.add(Convolution2D(filters=256, kernel_size=(1, 1), padding='valid', activation='relu'))\n",
    "        model.add(Dropout(0.10))\n",
    "\n",
    "        model.add(Convolution2D(filters=512, kernel_size=(1, 1), padding='valid', activation='relu'))\n",
    "        model.add(MaxPooling2D(pool_size=(2, 1), padding='valid'))\n",
    "        model.add(Dropout(0.05))\n",
    "        \n",
    "        model.add(Flatten())\n",
    "\n",
    "        model.add(Dense(1024, activation='relu'))\n",
    "        model.add(Dropout(0.25))\n",
    "        model.add(Dense(len(self.Action.__members__), activation='softmax'))\n",
    "        \n",
    "        model.compile(loss='mse', optimizer='adam')\n",
    "        \n",
    "        return model\n",
    "    \n",
    "    def _get_action(self):\n",
    "        if random.random() < self.epsilon:\n",
    "            return random.choice(range(len(self.Action.__members__)))\n",
    "        else:\n",
    "            action_values = self.model.predict(self.state)\n",
    "            return np.argmax(action_values)\n",
    "    \n",
    "    def run(self):\n",
    "        K.clear_session()\n",
    "        self.model = self._initialize_q_function()\n",
    "        \n",
    "        self.epoches = []\n",
    "        self.trade_returns = []\n",
    "        self.static_returns = []\n",
    "\n",
    "        start_btc_price = self.btc_data[0, 1]\n",
    "        usd_wallet = self.usd_amount\n",
    "        btc_wallet = self.btc_amount\n",
    "        \n",
    "        s_1 = np.zeros((3, 1))\n",
    "        s_1[0, 0] = start_btc_price\n",
    "        s_1[1, 0] = usd_wallet\n",
    "        s_1[2, 0] = btc_wallet\n",
    "        \n",
    "        self.state = np.stack([s_1] * self.state.shape[-1], axis=2)\n",
    "        self.state = self.state.reshape(1, self.state.shape[0], self.state.shape[1], self.state.shape[2])\n",
    "        \n",
    "        loss = float('Inf')\n",
    "        store = [0] * len(self.Action.__members__)\n",
    "\n",
    "        for index in range(1, self.btc_data.shape[0] - 1):\n",
    "            self.epsilon = max(1 - (index / float(1000)), 0.1)\n",
    "            \n",
    "            btc_price = self.btc_data[index, 1]\n",
    "            next_btc_price = self.btc_data[index+1, 1]\n",
    "            \n",
    "            if index % 100 == 0:\n",
    "                clear_output()\n",
    "                \n",
    "                potential_asset = (self.usd_amount / start_btc_price + self.btc_amount) * btc_price\n",
    "                begin_asset = self._calculate_total_asset(self.usd_amount, self.btc_amount, start_btc_price)\n",
    "                total_asset = self._calculate_total_asset(usd_wallet, btc_wallet, btc_price)\n",
    "                print(\"Index %d, epsilon %.02f\" % (index, self.epsilon))\n",
    "                \n",
    "                for a_index, count in enumerate(store):\n",
    "                    print(\"%s -- %d / 100\" % (self.Action(a_index), count))\n",
    "                \n",
    "                print(\"Total asset: $%.02f USD ($%.02f USD, %0.2f BTC)\" % (total_asset, usd_wallet, btc_wallet))\n",
    "                print(\"Close BTC price: $%.02f USD / BTC\" % (btc_price))\n",
    "                print(\"Trade return: $%.02f USD\" % (total_asset - begin_asset))\n",
    "                print(\"Static return: $%.02f USD\" % (potential_asset - begin_asset))\n",
    "                print(\"Model loss: %.02f\" % (loss))\n",
    "                \n",
    "                self.epoches.append(index)\n",
    "                self.trade_returns.append(total_asset - begin_asset)\n",
    "                self.static_returns.append(potential_asset - begin_asset)\n",
    "                \n",
    "                plt.clf()\n",
    "                plt.plot(self.epoches, self.trade_returns, 'r', self.epoches, self.static_returns, 'b')\n",
    "                plt.show()\n",
    "                \n",
    "                loss = 0\n",
    "                store = [0] * len(self.Action.__members__)\n",
    "\n",
    "            ### Run\n",
    "            action = self._get_action()\n",
    "            store[action] += 1\n",
    "            next_usd_wallet, next_btc_wallet, reward = self._execute_order(action, usd_wallet, btc_wallet, btc_price, next_btc_price)\n",
    "\n",
    "            s_n = np.zeros((3, 1))\n",
    "            s_n[0, 0] = next_btc_price\n",
    "            s_n[1, 0] = next_usd_wallet\n",
    "            s_n[2, 0] = next_btc_wallet\n",
    "            \n",
    "            s_n = s_n.reshape(1, s_n.shape[0], s_n.shape[1], 1)\n",
    "            next_state = np.append(s_n, self.state[:, :, :, :(self.state.shape[-1] - 1)], axis=3)\n",
    "\n",
    "            self.replay_memory.append((self.state, action, reward, next_state))\n",
    "\n",
    "            ### Training\n",
    "            if len(self.replay_memory) > self.batch_size:\n",
    "                minibatch = random.sample(self.replay_memory, self.batch_size)\n",
    "\n",
    "                inputs = np.zeros((self.batch_size, self.state.shape[1], self.state.shape[2], self.state.shape[3]))\n",
    "                targets = np.zeros((self.batch_size, len(self.Action.__members__)))\n",
    "\n",
    "                for i in range(self.batch_size):\n",
    "                    state_t, action_t, reward_t, next_state_t = minibatch[i]\n",
    "\n",
    "                    inputs[i] = state_t\n",
    "                    targets[i] = self.model.predict(state_t)\n",
    "                    next_action_values = self.model.predict(next_state_t)\n",
    "\n",
    "                    targets[i, action_t] = reward_t + 0.99 * np.max(next_action_values)\n",
    "\n",
    "                loss += self.model.train_on_batch(inputs, targets)\n",
    "\n",
    "            ### Update\n",
    "            usd_wallet = next_usd_wallet\n",
    "            btc_wallet = next_btc_wallet\n",
    "            self.state = next_state"
   ]
  },
  {
   "cell_type": "code",
   "execution_count": 14,
   "metadata": {
    "collapsed": true
   },
   "outputs": [],
   "source": [
    "agent = BTCAgent(fixed_btc_data)"
   ]
  },
  {
   "cell_type": "code",
   "execution_count": 15,
   "metadata": {},
   "outputs": [
    {
     "name": "stdout",
     "output_type": "stream",
     "text": [
      "Index 82900, epsilon 0.10\n",
      "Action.BUY_HALF -- 90 / 100\n",
      "Action.BUY_MAX -- 3 / 100\n",
      "Action.HOLD -- 1 / 100\n",
      "Action.SELL_HALF -- 4 / 100\n",
      "Action.SELL_MAX -- 2 / 100\n",
      "Total asset: $1144.30 USD ($0.00 USD, 0.55 BTC)\n",
      "Close BTC price: $2087.46 USD / BTC\n",
      "Trade return: $944.30 USD\n",
      "Static return: $1191.64 USD\n",
      "Model loss: 96.26\n"
     ]
    },
    {
     "data": {
      "image/png": "[encoded data removed]",
      "text/plain": [
       "<matplotlib.figure.Figure at 0x28a4adfd470>"
      ]
     },
     "metadata": {},
     "output_type": "display_data"
    }
   ],
   "source": [
    "agent.run()"
   ]
  },
  {
   "cell_type": "code",
   "execution_count": 16,
   "metadata": {
    "collapsed": true
   },
   "outputs": [],
   "source": [
    "agent.model.save('trained_model.h5')"
   ]
  },
  {
   "cell_type": "code",
   "execution_count": null,
   "metadata": {
    "collapsed": true
   },
   "outputs": [],
   "source": []
  }
 ],
 "metadata": {
  "kernelspec": {
   "display_name": "Python 3",
   "language": "python",
   "name": "python3"
  },
  "language_info": {
   "codemirror_mode": {
    "name": "ipython",
    "version": 3
   },
   "file_extension": ".py",
   "mimetype": "text/x-python",
   "name": "python",
   "nbconvert_exporter": "python",
   "pygments_lexer": "ipython3",
   "version": "3.5.3"
  }
 },
 "nbformat": 4,
 "nbformat_minor": 2
}
